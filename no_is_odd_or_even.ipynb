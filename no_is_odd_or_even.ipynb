{
  "nbformat": 4,
  "nbformat_minor": 0,
  "metadata": {
    "colab": {
      "provenance": []
    },
    "kernelspec": {
      "name": "python3",
      "display_name": "Python 3"
    },
    "language_info": {
      "name": "python"
    }
  },
  "cells": [
    {
      "cell_type": "code",
      "execution_count": null,
      "metadata": {
        "id": "Ctm28_aj1WYb"
      },
      "outputs": [],
      "source": [
        "#Number is even or odd"
      ]
    },
    {
      "cell_type": "code",
      "source": [
        "x=int(input(\"Enter a number: \"))\n",
        "if (x%2)==0:\n",
        "  print(\"Number is even\")\n",
        "else:\n",
        "  print(\"Number is odd\")"
      ],
      "metadata": {
        "colab": {
          "base_uri": "https://localhost:8080/"
        },
        "id": "aJ5S57-v4O6o",
        "outputId": "11bfd3ba-c048-4c04-cb24-05a4bd50c188"
      },
      "execution_count": 7,
      "outputs": [
        {
          "output_type": "stream",
          "name": "stdout",
          "text": [
            "Enter a number: 4\n",
            "Number is even\n"
          ]
        }
      ]
    }
  ]
}