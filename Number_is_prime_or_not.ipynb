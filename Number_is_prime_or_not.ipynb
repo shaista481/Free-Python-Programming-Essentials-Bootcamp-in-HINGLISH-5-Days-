{
  "nbformat": 4,
  "nbformat_minor": 0,
  "metadata": {
    "colab": {
      "provenance": []
    },
    "kernelspec": {
      "name": "python3",
      "display_name": "Python 3"
    },
    "language_info": {
      "name": "python"
    }
  },
  "cells": [
    {
      "cell_type": "code",
      "execution_count": null,
      "metadata": {
        "id": "Ctm28_aj1WYb"
      },
      "outputs": [],
      "source": [
        "#Number is even or odd"
      ]
    },
    {
      "cell_type": "code",
      "source": [
        "def isprime(x):\n",
        "  flag=0\n",
        "  if x>1:\n",
        "    for i in range(2,x):\n",
        "      if x%i==0:\n",
        "        flag=1\n",
        "      break\n",
        "    else:\n",
        "      print(\"Number is prime\")\n",
        "\n",
        "  if flag:\n",
        "    print(\"Number is not prime number\")\n",
        "  else:\n",
        "    print(\"Number is prime number\")\n",
        "    \n",
        "isprime(4)    "
      ],
      "metadata": {
        "colab": {
          "base_uri": "https://localhost:8080/"
        },
        "id": "aJ5S57-v4O6o",
        "outputId": "77d7bfb1-1748-4249-f9d4-5c4b19989b31"
      },
      "execution_count": 38,
      "outputs": [
        {
          "output_type": "stream",
          "name": "stdout",
          "text": [
            "Number is not prime number\n"
          ]
        }
      ]
    }
  ]
}